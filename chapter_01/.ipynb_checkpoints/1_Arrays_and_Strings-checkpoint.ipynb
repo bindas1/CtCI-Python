{
 "cells": [
  {
   "cell_type": "markdown",
   "id": "5cea8d8f-2606-48cb-af20-0cc937c722db",
   "metadata": {},
   "source": [
    "### 1.1 - is unique?"
   ]
  },
  {
   "cell_type": "code",
   "execution_count": 1,
   "id": "28270632-ad47-485a-8785-7522c4028a61",
   "metadata": {},
   "outputs": [],
   "source": [
    "def is_unique_my_solution(string: str) -> bool:\n",
    "    letters = {}\n",
    "    for character in string:\n",
    "        if character in letters.keys():\n",
    "            return False\n",
    "        else:\n",
    "            letters[character] = None\n",
    "    return True"
   ]
  },
  {
   "cell_type": "markdown",
   "id": "80835cca-0fb1-4748-94ab-cc868c2952ef",
   "metadata": {},
   "source": [
    "### 1.2 - check permutation?"
   ]
  },
  {
   "cell_type": "code",
   "execution_count": 2,
   "id": "a7c87f21-1498-4df2-9ddc-6b92e2bf77eb",
   "metadata": {},
   "outputs": [],
   "source": [
    "# easiest way - sort O(n log n)\n",
    "def is_permutation(string, permutation):\n",
    "    return sorted(string) == sorted(permutation)"
   ]
  },
  {
   "cell_type": "code",
   "execution_count": 3,
   "id": "81057837-9a57-41ba-bd62-2b91813dfa6c",
   "metadata": {},
   "outputs": [],
   "source": [
    "# O(n)\n",
    "def is_permutation2(string, permutation):\n",
    "    dict_1 = {}\n",
    "    dict_2 = {}\n",
    "    \n",
    "    for letter in string:\n",
    "        dict_1[letter] = dict_1.get(letter, 0) + 1\n",
    "    for letter in permutation:\n",
    "        dict_2[letter] = dict_2.get(letter, 0) + 1\n",
    "    \n",
    "    return dict_1 == dict_2"
   ]
  },
  {
   "cell_type": "markdown",
   "id": "124d03cd-dfbf-4f00-ba02-a7d8c558b326",
   "metadata": {},
   "source": [
    "### 1.3 - URLify"
   ]
  },
  {
   "cell_type": "code",
   "execution_count": 4,
   "id": "c451d71f-617b-4c4c-8399-471ced23c019",
   "metadata": {},
   "outputs": [],
   "source": [
    "def urlify(string, length):\n",
    "    return ''.join(['%20' if letter==' ' else letter for letter in string[:length]])"
   ]
  },
  {
   "cell_type": "code",
   "execution_count": 5,
   "id": "6df8096b-6327-4796-a4bb-6d573584b8b4",
   "metadata": {
    "tags": []
   },
   "outputs": [
    {
     "data": {
      "text/plain": [
       "'%20a%20'"
      ]
     },
     "execution_count": 5,
     "metadata": {},
     "output_type": "execute_result"
    }
   ],
   "source": [
    "urlify(' a  b ', 3)"
   ]
  },
  {
   "cell_type": "markdown",
   "id": "a1f0ecfe-4283-4199-82a0-d266787a40e4",
   "metadata": {},
   "source": [
    "### 1.4 - Palindrome Permutation"
   ]
  },
  {
   "cell_type": "code",
   "execution_count": 6,
   "id": "6d12d056-2cda-4ba5-a423-46c8a80253ae",
   "metadata": {
    "tags": []
   },
   "outputs": [],
   "source": [
    "import re\n",
    "\n",
    "def palindrome_permutation(permutation):\n",
    "    hash_map = {}\n",
    "    permutation = re.sub(r'[^a-z]', '', permutation.replace(' ', '').lower())\n",
    "    print(permutation)\n",
    "    \n",
    "    for letter in permutation:\n",
    "        hash_map[letter] = permutation.count(letter)\n",
    "    count_odd = sum([1 if value%2 else 0 for value in hash_map.values()])\n",
    "        \n",
    "    if not len(permutation)%2 and count_odd==0:\n",
    "        return True\n",
    "    elif len(permutation)%2 and count_odd==1:\n",
    "        return True\n",
    "    else:\n",
    "        return False"
   ]
  },
  {
   "cell_type": "code",
   "execution_count": 7,
   "id": "ff64a8da-1963-4fbf-a3dc-6c07a77981c4",
   "metadata": {
    "tags": []
   },
   "outputs": [
    {
     "name": "stdout",
     "output_type": "stream",
     "text": [
      "abba\n"
     ]
    },
    {
     "data": {
      "text/plain": [
       "True"
      ]
     },
     "execution_count": 7,
     "metadata": {},
     "output_type": "execute_result"
    }
   ],
   "source": [
    "palindrome_permutation('a-bba!')"
   ]
  },
  {
   "cell_type": "markdown",
   "id": "aa6ee040-881e-4c63-b330-77b870997f47",
   "metadata": {},
   "source": [
    "### 1.5 - One Away"
   ]
  },
  {
   "cell_type": "code",
   "execution_count": 8,
   "id": "cb4f9861-ad03-4889-b66f-6164ee3d302f",
   "metadata": {
    "tags": []
   },
   "outputs": [],
   "source": [
    "def is_one_away(string1, string2):\n",
    "    \"\"\"Given two strings return True if they are one character away (remove, insert or replace)\"\"\"\n",
    "    if len(string1) == len(string2):\n",
    "        # check for replacement\n",
    "        number_replacements = sum([1 if l1!=l2 else 0 for l1, l2 in zip(string1, string2)])\n",
    "        print(number_replacements)\n",
    "        if number_replacements <= 1:\n",
    "            return True\n",
    "        else:\n",
    "            return False\n",
    "    else:\n",
    "        # removing / inserting one letter is symmetrical\n",
    "        longer = string1 if len(string1) > len(string2) else string2\n",
    "        shorter = string1 if len(string1) < len(string2) else string2\n",
    "        if len(longer) == len(shorter)+1:\n",
    "            # check removing\n",
    "            for i in range(len(longer)):\n",
    "                if longer[:i] + longer[i+1:] == shorter:\n",
    "                    return True\n",
    "            return False\n",
    "        else:\n",
    "            return False"
   ]
  },
  {
   "cell_type": "code",
   "execution_count": 9,
   "id": "f36672c1-adaf-4166-830a-10a942802eb8",
   "metadata": {
    "tags": []
   },
   "outputs": [
    {
     "name": "stdout",
     "output_type": "stream",
     "text": [
      "2\n"
     ]
    },
    {
     "data": {
      "text/plain": [
       "False"
      ]
     },
     "execution_count": 9,
     "metadata": {},
     "output_type": "execute_result"
    }
   ],
   "source": [
    "is_one_away(\"pale\", \"bake\") == True"
   ]
  },
  {
   "cell_type": "markdown",
   "id": "495d8085-2a6e-4da4-8794-9094fe536a07",
   "metadata": {},
   "source": [
    "### 1.6 - String Compression"
   ]
  },
  {
   "cell_type": "code",
   "execution_count": 10,
   "id": "6aaf5964-6b6d-4c8a-a763-c548f0221326",
   "metadata": {
    "tags": []
   },
   "outputs": [],
   "source": [
    "def compress(string):\n",
    "    if string == '':\n",
    "        return string\n",
    "    current_letter = string[0]\n",
    "    letter_count = 1\n",
    "    compressed = ''\n",
    "    for letter in string[1:]+'*':\n",
    "        if letter == current_letter:\n",
    "            letter_count += 1\n",
    "        else:\n",
    "            compressed = compressed + current_letter + str(letter_count)\n",
    "            current_letter = letter\n",
    "            letter_count = 1\n",
    "    return min(string, compressed, key=len)"
   ]
  },
  {
   "cell_type": "code",
   "execution_count": 11,
   "id": "1ff20a76-6bff-49a1-9ed0-ece990eb02ab",
   "metadata": {
    "tags": []
   },
   "outputs": [
    {
     "data": {
      "text/plain": [
       "'acdef'"
      ]
     },
     "execution_count": 11,
     "metadata": {},
     "output_type": "execute_result"
    }
   ],
   "source": [
    "compress('acdef')"
   ]
  },
  {
   "cell_type": "markdown",
   "id": "8efae26f-65ff-4f77-b07e-b7e8d37e4c87",
   "metadata": {},
   "source": [
    "### 1.7 - Rotate Matrix "
   ]
  },
  {
   "cell_type": "code",
   "execution_count": 12,
   "id": "60ec7431-eef8-4862-993b-2b1117635ad1",
   "metadata": {
    "tags": []
   },
   "outputs": [],
   "source": [
    "def rotate_notinplace(matrix):\n",
    "    \"\"\"Rotates a matrix (n x n) by 90 degrees clockwise\"\"\"\n",
    "    rotated_matrix = []\n",
    "    \n",
    "    for i in range(len(matrix)):\n",
    "        new_row = []\n",
    "        for j in range(len(matrix)-1, -1, -1):\n",
    "            new_row.append(matrix[j][i])\n",
    "        rotated_matrix.append(new_row)\n",
    "        \n",
    "    return rotated_matrix\n",
    "    "
   ]
  },
  {
   "cell_type": "code",
   "execution_count": 13,
   "id": "ca9baaf5-6f87-42fe-bf05-d607c93bc92d",
   "metadata": {
    "tags": []
   },
   "outputs": [
    {
     "data": {
      "text/plain": [
       "[[6, 3, 0], [7, 4, 1], [8, 5, 2]]"
      ]
     },
     "execution_count": 13,
     "metadata": {},
     "output_type": "execute_result"
    }
   ],
   "source": [
    "rotate_notinplace([[0,1,2],[3,4,5],[6,7,8]])"
   ]
  },
  {
   "cell_type": "code",
   "execution_count": 14,
   "id": "e5b67a1e-5fff-447f-ad03-c0dcb5f5aecf",
   "metadata": {
    "tags": []
   },
   "outputs": [],
   "source": [
    "import numpy as np\n",
    "\n",
    "def rotate_np(matrix):\n",
    "    \"\"\"Rotates a matrix (n x n) by 90 degrees clockwise\"\"\"\n",
    "    return np.rot90(matrix, axes=(1,0))\n",
    "    \n",
    "    "
   ]
  },
  {
   "cell_type": "code",
   "execution_count": 15,
   "id": "af679c6c-e093-4573-9aa6-f5c3f77a0503",
   "metadata": {
    "tags": []
   },
   "outputs": [
    {
     "data": {
      "text/plain": [
       "array([[6, 3, 0],\n",
       "       [7, 4, 1],\n",
       "       [8, 5, 2]])"
      ]
     },
     "execution_count": 15,
     "metadata": {},
     "output_type": "execute_result"
    }
   ],
   "source": [
    "rotate_np(np.array([[0,1,2],[3,4,5],[6,7,8]]))"
   ]
  },
  {
   "cell_type": "markdown",
   "id": "6e906df4-1e02-450b-be3f-4186898080b5",
   "metadata": {},
   "source": [
    "### 1.8 - Zero Matrix"
   ]
  },
  {
   "cell_type": "code",
   "execution_count": 27,
   "id": "5a658fce-859c-40ae-aaf3-15f809cf58e9",
   "metadata": {
    "tags": []
   },
   "outputs": [],
   "source": [
    "def zero_matrix(matrix):\n",
    "    \"\"\"Given m x n matrix, replaces whole row and column for any cell that contains 0\"\"\"\n",
    "    m = len(matrix)\n",
    "    n = len(matrix[0])\n",
    "    rows = set()\n",
    "    columns = set()\n",
    "    \n",
    "    for i in range(len(matrix)):\n",
    "        for j in range(len(matrix)):\n",
    "            if matrix[i][j] == 0:\n",
    "                rows.add(i)\n",
    "                columns.add(j)\n",
    "    \n",
    "    for row in rows:\n",
    "        matrix[row] = [0] * n\n",
    "    for column in columns:\n",
    "        for row in range(m):\n",
    "            matrix[row][column] = 0\n",
    "                \n",
    "    return matrix"
   ]
  },
  {
   "cell_type": "code",
   "execution_count": 28,
   "id": "ab53d8f1-fb8a-4338-b137-a0aae027ac64",
   "metadata": {
    "tags": []
   },
   "outputs": [
    {
     "data": {
      "text/plain": [
       "[[0, 0, 0], [4, 0, 6], [7, 0, 9]]"
      ]
     },
     "execution_count": 28,
     "metadata": {},
     "output_type": "execute_result"
    }
   ],
   "source": [
    "zero_matrix([[1,0,3], [4,5,6],[7,8,9]])"
   ]
  },
  {
   "cell_type": "markdown",
   "id": "e4575b7b-8b12-408c-9fd9-ca170054f2c7",
   "metadata": {},
   "source": [
    "### 1.9 - String Rotation"
   ]
  },
  {
   "cell_type": "code",
   "execution_count": 35,
   "id": "26ab8e02-9092-4e31-8787-087fb8805319",
   "metadata": {
    "tags": []
   },
   "outputs": [],
   "source": [
    "def is_rotated_string(s1, s2):\n",
    "    \"\"\"Checks if s2 is a rotation of s1\"\"\"\n",
    "    if len(s1) == len(s2):\n",
    "        for i in range(len(s1)):\n",
    "            if s1[i:] + s1[:i] == s2:\n",
    "                return True\n",
    "    return False"
   ]
  },
  {
   "cell_type": "code",
   "execution_count": 36,
   "id": "fc4c5501-4622-4ee0-b1e7-9fb06015e7c3",
   "metadata": {
    "tags": []
   },
   "outputs": [
    {
     "data": {
      "text/plain": [
       "True"
      ]
     },
     "execution_count": 36,
     "metadata": {},
     "output_type": "execute_result"
    }
   ],
   "source": [
    "is_rotated_string('waterbottle', 'erbottlewat')"
   ]
  }
 ],
 "metadata": {
  "kernelspec": {
   "display_name": "Python 3 (ipykernel)",
   "language": "python",
   "name": "python3"
  },
  "language_info": {
   "codemirror_mode": {
    "name": "ipython",
    "version": 3
   },
   "file_extension": ".py",
   "mimetype": "text/x-python",
   "name": "python",
   "nbconvert_exporter": "python",
   "pygments_lexer": "ipython3",
   "version": "3.11.3"
  }
 },
 "nbformat": 4,
 "nbformat_minor": 5
}
