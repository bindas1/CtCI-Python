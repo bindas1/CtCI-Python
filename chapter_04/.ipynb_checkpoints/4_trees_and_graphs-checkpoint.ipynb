{
 "cells": [
  {
   "cell_type": "code",
   "execution_count": 1,
   "id": "18494d76-0485-43cf-8b46-0e3b81b6438f",
   "metadata": {
    "tags": []
   },
   "outputs": [],
   "source": [
    "from binary_tree import BinaryTree\n",
    "from binary_search_tree import BinarySearchTree"
   ]
  },
  {
   "cell_type": "markdown",
   "id": "03b1cfc5-37a3-44c4-8fc3-3c19ae2505be",
   "metadata": {},
   "source": [
    "### 4.1 - Route Between Nodes"
   ]
  },
  {
   "cell_type": "code",
   "execution_count": 4,
   "id": "61b615eb-49da-4b19-85df-4e436635233d",
   "metadata": {
    "tags": []
   },
   "outputs": [],
   "source": [
    "def is_route_my_bfs(graph, start, end):\n",
    "    queue = []\n",
    "    queue.append(start)\n",
    "    nodes_marked = set()\n",
    "    \n",
    "    while queue != []:\n",
    "        node = queue.pop(0)\n",
    "        if node == end:\n",
    "            return True\n",
    "        nodes_marked.add(node)\n",
    "        for neighbor in graph[node]:\n",
    "            if neighbor not in nodes_marked:\n",
    "                queue.append(neighbor)\n",
    "    return False"
   ]
  },
  {
   "cell_type": "markdown",
   "id": "b011394a-bedd-4984-a9e3-2fac23b9fce2",
   "metadata": {},
   "source": [
    "### 4.2 - Minimal Tree"
   ]
  },
  {
   "cell_type": "code",
   "execution_count": 12,
   "id": "5985e61f-5478-4ea0-be8c-444b5f20f48b",
   "metadata": {
    "tags": []
   },
   "outputs": [],
   "source": [
    "class Node:\n",
    "    def __init__(self, item):\n",
    "        self.right = None\n",
    "        self.left = None\n",
    "        self.val = item\n",
    "\n",
    "    def disp(self, nesting=0):\n",
    "        indent = \" \" * nesting * 2\n",
    "        output = f\"{self.val}\\n\"\n",
    "        if self.left is not None:\n",
    "            output += f\"{indent}L:\"\n",
    "            output += self.left.disp(nesting + 1)\n",
    "        if self.right is not None:\n",
    "            output += f\"{indent}R:\"\n",
    "            output += self.right.disp(nesting + 1)\n",
    "        return output\n",
    "\n",
    "    def __str__(self):\n",
    "        return self.disp()\n",
    "\n",
    "\n",
    "def create_bst(array):\n",
    "    match len(array):\n",
    "        case 0:\n",
    "            return None\n",
    "        case 1:\n",
    "            return Node(array[0])\n",
    "        case _:\n",
    "            mid = len(array) // 2\n",
    "            root_node = Node(array[mid])\n",
    "            root_node.left = create_bst(array[:mid])\n",
    "            root_node.right = create_bst(array[mid+1:])\n",
    "            return root_node\n",
    "        "
   ]
  },
  {
   "cell_type": "code",
   "execution_count": 13,
   "id": "bd3958a3-845b-4667-9fba-6be984185650",
   "metadata": {
    "tags": []
   },
   "outputs": [
    {
     "name": "stdout",
     "output_type": "stream",
     "text": [
      "10\n",
      "L:5\n",
      "  L:3\n",
      "    L:2\n",
      "      L:1\n",
      "    R:4\n",
      "  R:8\n",
      "    L:7\n",
      "      L:6\n",
      "    R:9\n",
      "R:43\n",
      "  L:18\n",
      "    L:15\n",
      "      L:12\n",
      "    R:22\n",
      "  R:515\n",
      "    L:144\n",
      "    R:4123\n",
      "\n"
     ]
    }
   ],
   "source": [
    "test_array = [1, 2, 3, 4, 5, 6, 7, 8, 9, 10, 12, 15, 18, 22, 43, 144, 515, 4123]\n",
    "print(create_bst(test_array))"
   ]
  },
  {
   "cell_type": "code",
   "execution_count": 14,
   "id": "84dfd8ac-a455-46b1-bd8e-691ba4a61625",
   "metadata": {
    "tags": []
   },
   "outputs": [],
   "source": [
    "def array_to_binary_tree(array, start, end):\n",
    "    if start > end:\n",
    "        return None\n",
    "    mid = (\n",
    "        start + end\n",
    "    ) // 2  # This must be floor division, otherwise you get a slice error\n",
    "    # TypeError: list indices must be integers or slices, not float\n",
    "    root = Node(array[mid])\n",
    "    root.left = array_to_binary_tree(array, start, mid - 1)\n",
    "    root.right = array_to_binary_tree(array, mid + 1, end)\n",
    "    return root"
   ]
  },
  {
   "cell_type": "code",
   "execution_count": 15,
   "id": "e9dbe526-e71f-464d-b372-7e5c37a1214c",
   "metadata": {
    "tags": []
   },
   "outputs": [
    {
     "name": "stdout",
     "output_type": "stream",
     "text": [
      "9\n",
      "L:4\n",
      "  L:2\n",
      "    L:1\n",
      "    R:3\n",
      "  R:6\n",
      "    L:5\n",
      "    R:7\n",
      "      R:8\n",
      "R:22\n",
      "  L:12\n",
      "    L:10\n",
      "    R:15\n",
      "      R:18\n",
      "  R:144\n",
      "    L:43\n",
      "    R:515\n",
      "      R:4123\n",
      "\n"
     ]
    }
   ],
   "source": [
    "print(array_to_binary_tree(test_array, 0, len(test_array) - 1))"
   ]
  },
  {
   "cell_type": "code",
   "execution_count": null,
   "id": "5688a0cb-a4c3-44b8-85d7-93db75af7dc8",
   "metadata": {},
   "outputs": [],
   "source": []
  }
 ],
 "metadata": {
  "kernelspec": {
   "display_name": "Python 3 (ipykernel)",
   "language": "python",
   "name": "python3"
  },
  "language_info": {
   "codemirror_mode": {
    "name": "ipython",
    "version": 3
   },
   "file_extension": ".py",
   "mimetype": "text/x-python",
   "name": "python",
   "nbconvert_exporter": "python",
   "pygments_lexer": "ipython3",
   "version": "3.11.3"
  }
 },
 "nbformat": 4,
 "nbformat_minor": 5
}
