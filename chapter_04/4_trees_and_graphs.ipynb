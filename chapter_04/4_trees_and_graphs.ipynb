{
 "cells": [
  {
   "cell_type": "code",
   "execution_count": 1,
   "id": "18494d76-0485-43cf-8b46-0e3b81b6438f",
   "metadata": {
    "tags": []
   },
   "outputs": [],
   "source": [
    "from binary_tree import BinaryTree\n",
    "from binary_search_tree import BinarySearchTree"
   ]
  },
  {
   "cell_type": "markdown",
   "id": "03b1cfc5-37a3-44c4-8fc3-3c19ae2505be",
   "metadata": {},
   "source": [
    "### 4.1 - Route Between Nodes"
   ]
  },
  {
   "cell_type": "code",
   "execution_count": 4,
   "id": "61b615eb-49da-4b19-85df-4e436635233d",
   "metadata": {
    "tags": []
   },
   "outputs": [],
   "source": [
    "def is_route_my_bfs(graph, start, end):\n",
    "    queue = []\n",
    "    queue.append(start)\n",
    "    nodes_marked = set()\n",
    "    \n",
    "    while queue != []:\n",
    "        node = queue.pop(0)\n",
    "        if node == end:\n",
    "            return True\n",
    "        nodes_marked.add(node)\n",
    "        for neighbor in graph[node]:\n",
    "            if neighbor not in nodes_marked:\n",
    "                queue.append(neighbor)\n",
    "    return False"
   ]
  },
  {
   "cell_type": "code",
   "execution_count": null,
   "id": "937b242f-2789-462a-ad93-a7863a0992b3",
   "metadata": {},
   "outputs": [],
   "source": []
  }
 ],
 "metadata": {
  "kernelspec": {
   "display_name": "Python 3 (ipykernel)",
   "language": "python",
   "name": "python3"
  },
  "language_info": {
   "codemirror_mode": {
    "name": "ipython",
    "version": 3
   },
   "file_extension": ".py",
   "mimetype": "text/x-python",
   "name": "python",
   "nbconvert_exporter": "python",
   "pygments_lexer": "ipython3",
   "version": "3.11.3"
  }
 },
 "nbformat": 4,
 "nbformat_minor": 5
}
