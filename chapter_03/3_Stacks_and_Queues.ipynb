{
 "cells": [
  {
   "cell_type": "code",
   "execution_count": 1,
   "id": "18675afc-e41f-4e57-b0b8-37f98018c77c",
   "metadata": {
    "tags": []
   },
   "outputs": [],
   "source": [
    "from stack import Stack"
   ]
  },
  {
   "cell_type": "markdown",
   "id": "215e8499-ea88-4e11-aeb7-1c1b72a0c446",
   "metadata": {},
   "source": [
    "### 3.3 - Stacks of Plates"
   ]
  },
  {
   "cell_type": "code",
   "execution_count": 27,
   "id": "544a4c3e-98a8-4a41-8a41-d61df2b41736",
   "metadata": {
    "tags": []
   },
   "outputs": [],
   "source": [
    "class StackOfStacks():\n",
    "    def __init__(self, max_vals):\n",
    "        self.stacks = []\n",
    "        self.max_vals = max_vals\n",
    "    \n",
    "    def push(self, item):\n",
    "        if self.stacks == [] or len(self.stacks[-1]) == self.max_vals:\n",
    "            stack = Stack()\n",
    "            stack.push(item)\n",
    "            self.stacks.append(stack)\n",
    "        else:\n",
    "            self.stacks[-1].push(item)\n",
    "    \n",
    "    def pop(self):\n",
    "        if self.stacks == []:\n",
    "            raise ValueError('Stack of Stacks is empty so can not pop')\n",
    "        else:\n",
    "            elem = self.stacks[-1].pop()\n",
    "            if self.stacks[-1].is_empty():\n",
    "                self.stacks = self.stacks[:-1]\n",
    "            return elem\n",
    "    \n",
    "    def peek(self):\n",
    "        try:\n",
    "            return self.stacks[-1].peek()\n",
    "        except:\n",
    "            print(\"No items to peek\")\n",
    "            \n",
    "    def popAt(self, index):\n",
    "        try:\n",
    "            return self.stacks[index].pop()\n",
    "        except:\n",
    "            print(\"No stack at this index\")"
   ]
  },
  {
   "cell_type": "markdown",
   "id": "2ba1de69-083d-4834-94a8-985480184409",
   "metadata": {},
   "source": [
    "### 3.4 - Queue via Stacks"
   ]
  },
  {
   "cell_type": "code",
   "execution_count": 42,
   "id": "bb71e701-877c-4038-9336-e53aafbb52a7",
   "metadata": {
    "tags": []
   },
   "outputs": [],
   "source": [
    "class QueueFromStacks():\n",
    "    def __init__(self):\n",
    "        self.stack1 = Stack()\n",
    "        self.stack2 = Stack()\n",
    "        \n",
    "    def add(self, item):\n",
    "        if self.stack1.is_empty():\n",
    "            self.stack1.push(item)\n",
    "        else:\n",
    "            self.stack2.push(item)\n",
    "    \n",
    "    def dequeue(self):\n",
    "        if self.stack1.is_empty():\n",
    "            while len(self.stack2) != 1:\n",
    "                self.stack1.push(self.stack2.pop())\n",
    "            return self.stack2.pop()\n",
    "        else:\n",
    "            while len(self.stack1) != 1:\n",
    "                self.stack2.push()\n",
    "            return self.stack1.pop()\n",
    "    \n",
    "    "
   ]
  },
  {
   "cell_type": "code",
   "execution_count": 46,
   "id": "ca006cc0-4b31-4cee-a1d8-a0a696bd85d5",
   "metadata": {
    "tags": []
   },
   "outputs": [],
   "source": [
    "qfs = QueueFromStacks()"
   ]
  },
  {
   "cell_type": "code",
   "execution_count": 51,
   "id": "30ea120b-2e37-4eb4-846b-ceb62f3e0d4e",
   "metadata": {
    "tags": []
   },
   "outputs": [
    {
     "data": {
      "text/plain": [
       "4"
      ]
     },
     "execution_count": 51,
     "metadata": {},
     "output_type": "execute_result"
    }
   ],
   "source": [
    "qfs.dequeue()"
   ]
  },
  {
   "cell_type": "code",
   "execution_count": null,
   "id": "745d0c67-f06d-4184-81b5-fc14824d507c",
   "metadata": {},
   "outputs": [],
   "source": []
  }
 ],
 "metadata": {
  "kernelspec": {
   "display_name": "Python 3 (ipykernel)",
   "language": "python",
   "name": "python3"
  },
  "language_info": {
   "codemirror_mode": {
    "name": "ipython",
    "version": 3
   },
   "file_extension": ".py",
   "mimetype": "text/x-python",
   "name": "python",
   "nbconvert_exporter": "python",
   "pygments_lexer": "ipython3",
   "version": "3.11.3"
  }
 },
 "nbformat": 4,
 "nbformat_minor": 5
}
