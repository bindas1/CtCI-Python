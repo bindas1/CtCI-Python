{
 "cells": [
  {
   "cell_type": "code",
   "execution_count": 1,
   "id": "18675afc-e41f-4e57-b0b8-37f98018c77c",
   "metadata": {
    "tags": []
   },
   "outputs": [],
   "source": [
    "from stack import Stack"
   ]
  },
  {
   "cell_type": "markdown",
   "id": "215e8499-ea88-4e11-aeb7-1c1b72a0c446",
   "metadata": {},
   "source": [
    "### 3.3 - Stacks of Plates"
   ]
  },
  {
   "cell_type": "code",
   "execution_count": 27,
   "id": "544a4c3e-98a8-4a41-8a41-d61df2b41736",
   "metadata": {
    "tags": []
   },
   "outputs": [],
   "source": [
    "class StackOfStacks():\n",
    "    def __init__(self, max_vals):\n",
    "        self.stacks = []\n",
    "        self.max_vals = max_vals\n",
    "    \n",
    "    def push(self, item):\n",
    "        if self.stacks == [] or len(self.stacks[-1]) == self.max_vals:\n",
    "            stack = Stack()\n",
    "            stack.push(item)\n",
    "            self.stacks.append(stack)\n",
    "        else:\n",
    "            self.stacks[-1].push(item)\n",
    "    \n",
    "    def pop(self):\n",
    "        if self.stacks == []:\n",
    "            raise ValueError('Stack of Stacks is empty so can not pop')\n",
    "        else:\n",
    "            elem = self.stacks[-1].pop()\n",
    "            if self.stacks[-1].is_empty():\n",
    "                self.stacks = self.stacks[:-1]\n",
    "            return elem\n",
    "    \n",
    "    def peek(self):\n",
    "        try:\n",
    "            return self.stacks[-1].peek()\n",
    "        except:\n",
    "            print(\"No items to peek\")\n",
    "            \n",
    "    def popAt(self, index):\n",
    "        try:\n",
    "            return self.stacks[index].pop()\n",
    "        except:\n",
    "            print(\"No stack at this index\")"
   ]
  },
  {
   "cell_type": "markdown",
   "id": "2ba1de69-083d-4834-94a8-985480184409",
   "metadata": {},
   "source": [
    "### 3.4 - Queue via Stacks"
   ]
  },
  {
   "cell_type": "code",
   "execution_count": 42,
   "id": "bb71e701-877c-4038-9336-e53aafbb52a7",
   "metadata": {
    "tags": []
   },
   "outputs": [],
   "source": [
    "class QueueFromStacks():\n",
    "    def __init__(self):\n",
    "        self.stack1 = Stack()\n",
    "        self.stack2 = Stack()\n",
    "        \n",
    "    def add(self, item):\n",
    "        if self.stack1.is_empty():\n",
    "            self.stack1.push(item)\n",
    "        else:\n",
    "            self.stack2.push(item)\n",
    "    \n",
    "    def dequeue(self):\n",
    "        if self.stack1.is_empty():\n",
    "            while len(self.stack2) != 1:\n",
    "                self.stack1.push(self.stack2.pop())\n",
    "            return self.stack2.pop()\n",
    "        else:\n",
    "            while len(self.stack1) != 1:\n",
    "                self.stack2.push()\n",
    "            return self.stack1.pop()\n",
    "    \n",
    "    "
   ]
  },
  {
   "cell_type": "markdown",
   "id": "d91319b6-9747-42b7-89ea-9dff706bfb24",
   "metadata": {},
   "source": [
    "### 3.5 - Sort Stack"
   ]
  },
  {
   "cell_type": "code",
   "execution_count": 118,
   "id": "d7eaac7a-dadc-41d7-854c-41dd6ab54ced",
   "metadata": {
    "tags": []
   },
   "outputs": [],
   "source": [
    "def sort_stack(stack):\n",
    "    \"\"\"Returns sorted stack\"\"\"\n",
    "    temp_stack = Stack()\n",
    "    \n",
    "    while not stack.is_empty():\n",
    "        elem = stack.pop()\n",
    "        if temp_stack.is_empty():\n",
    "            temp_stack.push(elem)\n",
    "            print(\"Adding elem to empty stack\", elem)\n",
    "        else:\n",
    "            while not temp_stack.is_empty():\n",
    "                if temp_stack.peek() >= elem:\n",
    "                    temp_stack.push(elem)\n",
    "                    print(\"Adding elem to full stack\", elem)\n",
    "                    break\n",
    "                else:\n",
    "                    print(\"Moving to the original stack\", elem)\n",
    "                    stack.push(temp_stack.pop())\n",
    "            if temp_stack.is_empty():\n",
    "                print(\"Adding elem to the beginning of stack\", elem)\n",
    "                temp_stack.push(elem)\n",
    "            \n",
    "    return temp_stack"
   ]
  },
  {
   "cell_type": "code",
   "execution_count": 165,
   "id": "8a68cd30-602a-4079-b697-4011c57bc1d4",
   "metadata": {
    "tags": []
   },
   "outputs": [],
   "source": [
    "def sort_stack2(stack):\n",
    "    \"\"\"Returns sorted stack\"\"\"\n",
    "    temp_stack = Stack()\n",
    "    \n",
    "    while not stack.is_empty():\n",
    "        elem = stack.pop()\n",
    "        while not temp_stack.is_empty() and not temp_stack.peek() > elem:\n",
    "            stack.push(temp_stack.pop())\n",
    "        temp_stack.push(elem)\n",
    "    return temp_stack"
   ]
  },
  {
   "cell_type": "code",
   "execution_count": 166,
   "id": "5600d970-98ef-4a0b-aaf4-19497aaebd68",
   "metadata": {
    "tags": []
   },
   "outputs": [],
   "source": [
    "s = Stack()"
   ]
  },
  {
   "cell_type": "code",
   "execution_count": 167,
   "id": "7609487f-464b-449a-b6c8-aca7538c4fff",
   "metadata": {
    "tags": []
   },
   "outputs": [],
   "source": [
    "s.push(3)"
   ]
  },
  {
   "cell_type": "code",
   "execution_count": 168,
   "id": "b55d6a1e-d8ce-437d-8885-1354882219f7",
   "metadata": {
    "tags": []
   },
   "outputs": [],
   "source": [
    "s.push(11)"
   ]
  },
  {
   "cell_type": "code",
   "execution_count": 169,
   "id": "ec4f3f0f-d9b5-4091-a3eb-e98f7835c808",
   "metadata": {
    "tags": []
   },
   "outputs": [],
   "source": [
    "s.push(5)"
   ]
  },
  {
   "cell_type": "code",
   "execution_count": 170,
   "id": "b32b1051-c38e-4c06-9439-94685532bea3",
   "metadata": {
    "tags": []
   },
   "outputs": [],
   "source": [
    "s.push(1)"
   ]
  },
  {
   "cell_type": "code",
   "execution_count": 171,
   "id": "03c965d3-df48-4e20-bf4c-340d66ca921e",
   "metadata": {
    "tags": []
   },
   "outputs": [],
   "source": [
    "s.push(2)"
   ]
  },
  {
   "cell_type": "code",
   "execution_count": 159,
   "id": "b65f5ba9-4300-4a6f-99c0-b5c8c46ec7f2",
   "metadata": {
    "tags": []
   },
   "outputs": [
    {
     "name": "stdout",
     "output_type": "stream",
     "text": [
      "Adding elem to empty stack 2\n",
      "Adding elem to full stack 1\n",
      "Moving to the original stack 5\n",
      "Moving to the original stack 5\n",
      "Adding elem to the beginning of stack 5\n",
      "Adding elem to full stack 2\n",
      "Adding elem to full stack 1\n",
      "Moving to the original stack 11\n",
      "Moving to the original stack 11\n",
      "Moving to the original stack 11\n",
      "Adding elem to the beginning of stack 11\n",
      "Adding elem to full stack 5\n",
      "Adding elem to full stack 2\n",
      "Adding elem to full stack 1\n",
      "Moving to the original stack 3\n",
      "Moving to the original stack 3\n",
      "Adding elem to full stack 3\n",
      "Adding elem to full stack 2\n",
      "Adding elem to full stack 1\n"
     ]
    }
   ],
   "source": [
    "sorted_stack = sort_stack(s)"
   ]
  },
  {
   "cell_type": "code",
   "execution_count": 172,
   "id": "9f667c9d-6599-452d-adc3-5f5bffccac6a",
   "metadata": {
    "tags": []
   },
   "outputs": [],
   "source": [
    "sorted_stack = sort_stack2(s)"
   ]
  },
  {
   "cell_type": "markdown",
   "id": "444f64cc-b0c8-4224-82ea-f3f4bc02a867",
   "metadata": {},
   "source": [
    "### 3.6 - Animal Shelter"
   ]
  },
  {
   "cell_type": "code",
   "execution_count": 232,
   "id": "072eec7b-2bf7-45f5-87fe-932fe017d8a7",
   "metadata": {
    "tags": []
   },
   "outputs": [],
   "source": [
    "import string\n",
    "import random\n",
    "\n",
    "\n",
    "class Animal:\n",
    "    def __init__(self, name=''):\n",
    "        self.name = name if name != '' else random.choice(string.ascii_letters)\n",
    "        print(\"Hey my name is \", self.name)\n",
    "\n",
    "class Dog(Animal):\n",
    "    def __init__(self, name=''):\n",
    "        super().__init__(name)\n",
    "    \n",
    "    def __str__(self):\n",
    "        return \"Hey my name is \" + self.name\n",
    "        \n",
    "class Cat(Animal):\n",
    "    def __init__(self, name=''):\n",
    "        super().__init__(name)\n",
    "    \n",
    "    def __str__(self):\n",
    "        return \"Hey my name is \" + self.name"
   ]
  },
  {
   "cell_type": "code",
   "execution_count": 270,
   "id": "3faf6533-1a5a-441d-a72c-ff43c6d92d70",
   "metadata": {
    "tags": []
   },
   "outputs": [],
   "source": [
    "import time\n",
    "\n",
    "class Queue:\n",
    "    def __init__(self):\n",
    "        self.items = []\n",
    "    \n",
    "    def enqueue(self, item):\n",
    "        self.items.append(item)\n",
    "    \n",
    "    def dequeue(self):\n",
    "        return self.items.pop(0)\n",
    "    \n",
    "    def peek(self):\n",
    "        return self.items[0] if self.items != [] else None\n",
    "    \n",
    "class AnimalShelter:\n",
    "    def __init__(self):\n",
    "        self.dogs = Queue()\n",
    "        self.cats = Queue()\n",
    "    \n",
    "    def enqueue(self, animal):\n",
    "        if isinstance(animal, Cat):\n",
    "            self.cats.enqueue((animal, time.time()))\n",
    "        else:\n",
    "            self.dogs.enqueue((animal, time.time()))\n",
    "    \n",
    "    def dequeueDog(self):\n",
    "        return self.dogs.dequeue()[0]\n",
    "    \n",
    "    def dequeueCat(self):\n",
    "        return self.cats.dequeue()[0]\n",
    "    \n",
    "    def dequeueAny(self):\n",
    "        if self.dogs.peek() is None:\n",
    "            return self.cats.dequeue()[0]\n",
    "        elif self.cats.peek() is None:\n",
    "            return self.dogs.dequeue()[0]\n",
    "        if self.dogs.peek()[1] < self.cats.peek()[1]:\n",
    "            return self.dogs.dequeue()[0]\n",
    "        else:\n",
    "            return self.cats.dequeue()[0]"
   ]
  },
  {
   "cell_type": "code",
   "execution_count": 277,
   "id": "9de9ab70-660b-4621-9f9e-725b3a9017d9",
   "metadata": {
    "tags": []
   },
   "outputs": [
    {
     "name": "stdout",
     "output_type": "stream",
     "text": [
      "Hey my name is  Fluffy\n"
     ]
    }
   ],
   "source": [
    "animal_shelter = AnimalShelter()\n",
    "animal_shelter.enqueue(Cat(\"Fluffy\"))"
   ]
  },
  {
   "cell_type": "code",
   "execution_count": 278,
   "id": "2e79ebc4-0d2e-4b7f-a94d-7f79858169fb",
   "metadata": {
    "tags": []
   },
   "outputs": [
    {
     "name": "stdout",
     "output_type": "stream",
     "text": [
      "Hey my name is  Sparky\n"
     ]
    }
   ],
   "source": [
    "animal_shelter.enqueue(Dog(\"Sparky\"))"
   ]
  },
  {
   "cell_type": "code",
   "execution_count": 279,
   "id": "27413f09-6c08-4936-aa3d-7a7011182f09",
   "metadata": {
    "tags": []
   },
   "outputs": [
    {
     "name": "stdout",
     "output_type": "stream",
     "text": [
      "Hey my name is  Sneezy\n"
     ]
    }
   ],
   "source": [
    "animal_shelter.enqueue(Cat(\"Sneezy\"))"
   ]
  },
  {
   "cell_type": "code",
   "execution_count": 282,
   "id": "baa115b5-7648-490e-bde1-218b33c0e244",
   "metadata": {
    "tags": []
   },
   "outputs": [
    {
     "name": "stdout",
     "output_type": "stream",
     "text": [
      "Hey my name is Sneezy\n"
     ]
    }
   ],
   "source": [
    "print(animal_shelter.dequeueAny())"
   ]
  }
 ],
 "metadata": {
  "kernelspec": {
   "display_name": "Python 3 (ipykernel)",
   "language": "python",
   "name": "python3"
  },
  "language_info": {
   "codemirror_mode": {
    "name": "ipython",
    "version": 3
   },
   "file_extension": ".py",
   "mimetype": "text/x-python",
   "name": "python",
   "nbconvert_exporter": "python",
   "pygments_lexer": "ipython3",
   "version": "3.11.3"
  }
 },
 "nbformat": 4,
 "nbformat_minor": 5
}
