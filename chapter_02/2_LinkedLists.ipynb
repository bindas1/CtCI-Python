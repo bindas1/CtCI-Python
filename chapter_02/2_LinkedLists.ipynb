{
 "cells": [
  {
   "cell_type": "code",
   "execution_count": 2,
   "id": "908ed1b9-7b50-41ef-a898-fd9bd5826067",
   "metadata": {
    "tags": []
   },
   "outputs": [],
   "source": [
    "from linked_list import LinkedListNode, LinkedList, DoublyLinkedList"
   ]
  },
  {
   "cell_type": "markdown",
   "id": "2f19841f-3879-4f94-b34e-c013b2897d1d",
   "metadata": {},
   "source": [
    "### 2.1 - Remove Dups"
   ]
  },
  {
   "cell_type": "code",
   "execution_count": 36,
   "id": "2acce74b-cd87-4dc8-869b-75f791db4059",
   "metadata": {
    "tags": []
   },
   "outputs": [],
   "source": [
    "def remove_duplicates(linked_list: LinkedList) -> LinkedList:\n",
    "    node = linked_list.head\n",
    "    elements = {node.value}\n",
    "    while node.next:\n",
    "        if node.next.value not in elements:\n",
    "            elements.add(node.next.value)\n",
    "            node = node.next\n",
    "        else:\n",
    "            node.next = node.next.next\n",
    "    return linked_list"
   ]
  },
  {
   "cell_type": "code",
   "execution_count": 37,
   "id": "08fb4390-abec-43e8-8b3c-8a60e02f1cd3",
   "metadata": {
    "tags": []
   },
   "outputs": [
    {
     "name": "stdout",
     "output_type": "stream",
     "text": [
      "0 -> 1 -> 0 -> 1 -> 2 -> 0 -> 2 -> 1 -> 2 -> 0\n",
      "0 -> 1 -> 2\n"
     ]
    }
   ],
   "source": [
    "ll = LinkedList.generate(10, 0, 3)\n",
    "print(ll)\n",
    "print(remove_duplicates(ll))"
   ]
  },
  {
   "cell_type": "code",
   "execution_count": 38,
   "id": "157f610f-2cd9-4857-a38e-d82f9e73cc92",
   "metadata": {
    "tags": []
   },
   "outputs": [],
   "source": [
    "def remove_duplicates_followup(linked_list: LinkedList) -> LinkedList:\n",
    "    current = linked_list.head\n",
    "    prev = None\n",
    "    \n",
    "    while current:\n",
    "        value = current.value\n",
    "        runner = current.next\n",
    "        prev = current\n",
    "        while runner:\n",
    "            if runner.value == current.value:\n",
    "                prev.next = runner.next\n",
    "            else:\n",
    "                prev = runner\n",
    "            runner = runner.next\n",
    "        current = current.next   \n",
    "    return linked_list"
   ]
  },
  {
   "cell_type": "code",
   "execution_count": 39,
   "id": "d429295e-8291-431b-a2e4-820871ef4c0e",
   "metadata": {
    "tags": []
   },
   "outputs": [
    {
     "name": "stdout",
     "output_type": "stream",
     "text": [
      "2 -> 1 -> 0 -> 0 -> 2 -> 2 -> 2 -> 1 -> 0 -> 0\n",
      "2 -> 1 -> 0\n"
     ]
    }
   ],
   "source": [
    "ll = LinkedList.generate(10, 0, 3)\n",
    "print(ll)\n",
    "print(remove_duplicates_followup(ll))"
   ]
  },
  {
   "cell_type": "code",
   "execution_count": null,
   "id": "52819ea8-6e63-4f02-b0ab-811f6cfdcd23",
   "metadata": {},
   "outputs": [],
   "source": []
  }
 ],
 "metadata": {
  "kernelspec": {
   "display_name": "Python 3 (ipykernel)",
   "language": "python",
   "name": "python3"
  },
  "language_info": {
   "codemirror_mode": {
    "name": "ipython",
    "version": 3
   },
   "file_extension": ".py",
   "mimetype": "text/x-python",
   "name": "python",
   "nbconvert_exporter": "python",
   "pygments_lexer": "ipython3",
   "version": "3.11.3"
  }
 },
 "nbformat": 4,
 "nbformat_minor": 5
}
