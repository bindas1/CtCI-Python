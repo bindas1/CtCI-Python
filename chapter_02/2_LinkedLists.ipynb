{
 "cells": [
  {
   "cell_type": "code",
   "execution_count": 2,
   "id": "908ed1b9-7b50-41ef-a898-fd9bd5826067",
   "metadata": {
    "tags": []
   },
   "outputs": [],
   "source": [
    "from linked_list import LinkedListNode, LinkedList, DoublyLinkedList"
   ]
  },
  {
   "cell_type": "markdown",
   "id": "2f19841f-3879-4f94-b34e-c013b2897d1d",
   "metadata": {},
   "source": [
    "### 2.1 - Remove Dups"
   ]
  },
  {
   "cell_type": "code",
   "execution_count": 36,
   "id": "2acce74b-cd87-4dc8-869b-75f791db4059",
   "metadata": {
    "tags": []
   },
   "outputs": [],
   "source": [
    "def remove_duplicates(linked_list: LinkedList) -> LinkedList:\n",
    "    node = linked_list.head\n",
    "    elements = {node.value}\n",
    "    while node.next:\n",
    "        if node.next.value not in elements:\n",
    "            elements.add(node.next.value)\n",
    "            node = node.next\n",
    "        else:\n",
    "            node.next = node.next.next\n",
    "    return linked_list"
   ]
  },
  {
   "cell_type": "code",
   "execution_count": 37,
   "id": "08fb4390-abec-43e8-8b3c-8a60e02f1cd3",
   "metadata": {
    "tags": []
   },
   "outputs": [
    {
     "name": "stdout",
     "output_type": "stream",
     "text": [
      "0 -> 1 -> 0 -> 1 -> 2 -> 0 -> 2 -> 1 -> 2 -> 0\n",
      "0 -> 1 -> 2\n"
     ]
    }
   ],
   "source": [
    "ll = LinkedList.generate(10, 0, 3)\n",
    "print(ll)\n",
    "print(remove_duplicates(ll))"
   ]
  },
  {
   "cell_type": "code",
   "execution_count": 38,
   "id": "157f610f-2cd9-4857-a38e-d82f9e73cc92",
   "metadata": {
    "tags": []
   },
   "outputs": [],
   "source": [
    "def remove_duplicates_followup(linked_list: LinkedList) -> LinkedList:\n",
    "    current = linked_list.head\n",
    "    prev = None\n",
    "    \n",
    "    while current:\n",
    "        value = current.value\n",
    "        runner = current.next\n",
    "        prev = current\n",
    "        while runner:\n",
    "            if runner.value == current.value:\n",
    "                prev.next = runner.next\n",
    "            else:\n",
    "                prev = runner\n",
    "            runner = runner.next\n",
    "        current = current.next   \n",
    "    return linked_list"
   ]
  },
  {
   "cell_type": "code",
   "execution_count": 39,
   "id": "d429295e-8291-431b-a2e4-820871ef4c0e",
   "metadata": {
    "tags": []
   },
   "outputs": [
    {
     "name": "stdout",
     "output_type": "stream",
     "text": [
      "2 -> 1 -> 0 -> 0 -> 2 -> 2 -> 2 -> 1 -> 0 -> 0\n",
      "2 -> 1 -> 0\n"
     ]
    }
   ],
   "source": [
    "ll = LinkedList.generate(10, 0, 3)\n",
    "print(ll)\n",
    "print(remove_duplicates_followup(ll))"
   ]
  },
  {
   "cell_type": "markdown",
   "id": "97223696-0558-462e-b165-c4424e2d8465",
   "metadata": {},
   "source": [
    "### 2.2 - Return Kth to last"
   ]
  },
  {
   "cell_type": "code",
   "execution_count": 45,
   "id": "437927d8-4678-42ec-873b-a2f719329dc4",
   "metadata": {
    "tags": []
   },
   "outputs": [],
   "source": [
    "def k_to_last(linked_list: LinkedList, k: int) -> LinkedList:\n",
    "    \"\"\"Given linkedlist returns elements from index k to the end\"\"\"\n",
    "    current = linked_list.head\n",
    "    i = 0 \n",
    "    while current:\n",
    "        if i == k:\n",
    "            new_linked_list = LinkedList()\n",
    "            new_linked_list.head = current\n",
    "            return new_linked_list\n",
    "        i += 1\n",
    "        current = current.next\n",
    "    return linked_list"
   ]
  },
  {
   "cell_type": "code",
   "execution_count": 47,
   "id": "c0414231-52a7-462a-b42f-cbe5128bc214",
   "metadata": {
    "tags": []
   },
   "outputs": [
    {
     "name": "stdout",
     "output_type": "stream",
     "text": [
      "1 -> 2 -> 1 -> 2 -> 1 -> 1 -> 1 -> 0 -> 0 -> 2\n",
      "1 -> 1 -> 0 -> 0 -> 2\n"
     ]
    }
   ],
   "source": [
    "ll = LinkedList.generate(10, 0, 3)\n",
    "print(ll)\n",
    "print(k_to_last(ll, 5))"
   ]
  },
  {
   "cell_type": "code",
   "execution_count": 51,
   "id": "32a78501-2fd4-43bb-ba88-2f3d4bc5049b",
   "metadata": {
    "tags": []
   },
   "outputs": [],
   "source": [
    "def k_to_last_recursive(linked_list: LinkedList, k: int) -> LinkedList:\n",
    "    if k == 0:\n",
    "        return linked_list\n",
    "    else:\n",
    "        new_linked_list = LinkedList()\n",
    "        new_linked_list.head = linked_list.head.next\n",
    "        return k_to_last_recursive(new_linked_list, k-1)"
   ]
  },
  {
   "cell_type": "code",
   "execution_count": 52,
   "id": "62f07d8b-82fb-48dc-b0cb-5d6a39c2767b",
   "metadata": {
    "tags": []
   },
   "outputs": [
    {
     "name": "stdout",
     "output_type": "stream",
     "text": [
      "0 -> 1 -> 2 -> 2 -> 2 -> 0 -> 1 -> 0 -> 0 -> 0\n",
      "0 -> 1 -> 0 -> 0 -> 0\n"
     ]
    }
   ],
   "source": [
    "ll = LinkedList.generate(10, 0, 3)\n",
    "print(ll)\n",
    "print(k_to_last_recursive(ll, 5))"
   ]
  },
  {
   "cell_type": "code",
   "execution_count": 92,
   "id": "485ddc4a-acb6-477c-aee4-064e071f1624",
   "metadata": {
    "tags": []
   },
   "outputs": [],
   "source": [
    "def get_size(linked_list):\n",
    "    head = linked_list.head\n",
    "    size = 0\n",
    "    while head:\n",
    "        head = head.next\n",
    "        size += 1\n",
    "    return size\n",
    "    \n",
    "def k_last_elem_recursive(linked_list: LinkedList, k: int) -> LinkedList:\n",
    "    size = get_size(linked_list)\n",
    "    k_front = size - k\n",
    "    runner = linked_list.head\n",
    "    \n",
    "    for i in range(k_front):\n",
    "        runner = runner.next\n",
    "    return runner.value"
   ]
  },
  {
   "cell_type": "code",
   "execution_count": 93,
   "id": "432ac0a8-1735-4f49-bbb2-98e696313361",
   "metadata": {
    "tags": []
   },
   "outputs": [],
   "source": [
    "def k_last_elem(linked_list: LinkedList, k: int) -> int:\n",
    "    front = linked_list.head\n",
    "    back = linked_list.head\n",
    "    for _ in range(k):\n",
    "        if not front:\n",
    "            return None\n",
    "        front = front.next\n",
    "    \n",
    "    # when front gets to None back is on the kth to last elem\n",
    "    while front:\n",
    "        front = front.next\n",
    "        back = back.next\n",
    "    return back.value\n",
    "    "
   ]
  },
  {
   "cell_type": "code",
   "execution_count": 100,
   "id": "b75cb38a-41cb-4f36-863a-861eb409b818",
   "metadata": {
    "tags": []
   },
   "outputs": [
    {
     "name": "stdout",
     "output_type": "stream",
     "text": [
      "2 -> 2 -> 1 -> 2 -> 2 -> 2 -> 0 -> 1 -> 0 -> 2\n",
      "0\n",
      "0\n"
     ]
    }
   ],
   "source": [
    "ll = LinkedList.generate(10, 0, 3)\n",
    "print(ll)\n",
    "print(k_last_elem(ll, 4))\n",
    "print(k_last_elem_recursive(ll, 4))"
   ]
  },
  {
   "cell_type": "markdown",
   "id": "cce7f5e2-10e4-4b23-bae2-8311d34c6192",
   "metadata": {},
   "source": [
    "### 2.3 - Delete Middle Node"
   ]
  },
  {
   "cell_type": "code",
   "execution_count": 109,
   "id": "c6b555e3-d111-41a4-aec3-d9784f86573f",
   "metadata": {
    "tags": []
   },
   "outputs": [],
   "source": [
    "def delete_middle(linked_list: LinkedList):\n",
    "    # check if len(list) < 3\n",
    "    if linked_list.head.next.next != None:\n",
    "        runner = linked_list.head\n",
    "        back = linked_list.head\n",
    "\n",
    "        while runner and runner.next:\n",
    "            runner = runner.next.next\n",
    "            back = back.next\n",
    "\n",
    "            if runner == None or runner.next == None:\n",
    "                back.value = back.next.value\n",
    "                back.next = back.next.next"
   ]
  },
  {
   "cell_type": "code",
   "execution_count": 114,
   "id": "0a73255b-6c83-4012-9c40-42ea67b1eda7",
   "metadata": {
    "tags": []
   },
   "outputs": [],
   "source": [
    "def delete_middle_node(node):\n",
    "    node.value = node.next.value\n",
    "    node.next = node.next.next"
   ]
  },
  {
   "cell_type": "code",
   "execution_count": 115,
   "id": "cfe72f95-54ee-4ed2-89fd-30c63df21117",
   "metadata": {
    "tags": []
   },
   "outputs": [
    {
     "name": "stdout",
     "output_type": "stream",
     "text": [
      "1 -> 9 -> 18 -> 4 -> 6\n",
      "1 -> 9 -> 4 -> 6\n"
     ]
    }
   ],
   "source": [
    "ll = LinkedList.generate(5, 0, 20)\n",
    "print(ll)\n",
    "delete_middle(ll)\n",
    "print(ll)"
   ]
  },
  {
   "cell_type": "code",
   "execution_count": 116,
   "id": "b4ab1bb4-efff-49eb-b746-5a72e8094812",
   "metadata": {
    "tags": []
   },
   "outputs": [
    {
     "name": "stdout",
     "output_type": "stream",
     "text": [
      "6 -> 14\n",
      "6 -> 14\n"
     ]
    }
   ],
   "source": [
    "ll = LinkedList.generate(2, 0, 20)\n",
    "print(ll)\n",
    "delete_middle(ll)\n",
    "print(ll)"
   ]
  },
  {
   "cell_type": "markdown",
   "id": "769ab680-a560-4345-a3ef-cebd0cd41d79",
   "metadata": {},
   "source": [
    "### 2.4 - Partition"
   ]
  },
  {
   "cell_type": "code",
   "execution_count": 145,
   "id": "63a134e6-3bb1-490a-a476-8d8e3c05163e",
   "metadata": {
    "tags": []
   },
   "outputs": [],
   "source": [
    "def partition_list(linked_list, x) -> LinkedList:\n",
    "    left = None\n",
    "    right = None\n",
    "    left_head = None\n",
    "    right_head = None\n",
    "    runner = linked_list.head\n",
    "    \n",
    "    while runner:\n",
    "        if runner.value < x:\n",
    "            if left is not None:\n",
    "                left.next = LinkedListNode(runner.value)\n",
    "                left = left.next\n",
    "            else:\n",
    "                left = LinkedListNode(runner.value)\n",
    "                left_head = left\n",
    "        else:\n",
    "            if right is not None:\n",
    "                right.next = LinkedListNode(runner.value)\n",
    "                right = right.next\n",
    "            else:\n",
    "                right = LinkedListNode(runner.value)\n",
    "                right_head = right\n",
    "        runner = runner.next\n",
    "        \n",
    "    # merge left with right\n",
    "    left.next = right_head\n",
    "    linked_list.head = left_head\n",
    "    \n",
    "    return linked_list"
   ]
  },
  {
   "cell_type": "code",
   "execution_count": 146,
   "id": "254fc0e8-654c-4717-a5e3-d8968cd422a4",
   "metadata": {
    "tags": []
   },
   "outputs": [
    {
     "name": "stdout",
     "output_type": "stream",
     "text": [
      "1 -> 1 -> 3 -> 2 -> 0 -> 2 -> 1 -> 3 -> 1 -> 0\n",
      "1 -> 1 -> 0 -> 1 -> 1 -> 0 -> 3 -> 2 -> 2 -> 3\n"
     ]
    }
   ],
   "source": [
    "ll = LinkedList.generate(10, 0, 5)\n",
    "print(ll)\n",
    "print(partition_list(ll, 2))"
   ]
  },
  {
   "cell_type": "markdown",
   "id": "0b89169e-1132-47d9-8ba7-5fa5a543cec5",
   "metadata": {},
   "source": [
    "### 2.5 - Sum Lists"
   ]
  },
  {
   "cell_type": "code",
   "execution_count": 196,
   "id": "2e980893-e235-493c-b15f-b98ee5ec33b3",
   "metadata": {
    "tags": []
   },
   "outputs": [],
   "source": [
    "def sum_lists_reverse(ll1, ll2) -> LinkedList:\n",
    "    summed_list = LinkedList()\n",
    "    \n",
    "    longer = ll1.head if get_size(ll1)>=get_size(ll2) else ll2.head\n",
    "    shorter = ll2.head if get_size(ll1)>=get_size(ll2) else ll1.head\n",
    "    remaining = 0\n",
    "    \n",
    "    while longer:\n",
    "        if shorter is None:\n",
    "            sum_digit = longer.value + remaining\n",
    "        else:\n",
    "            sum_digit = longer.value + remaining + shorter.value\n",
    "        digit = sum_digit % 10\n",
    "        remaining = sum_digit // 10\n",
    "        summed_list.add(digit)\n",
    "        print(digit)\n",
    "            \n",
    "        longer = longer.next\n",
    "        if shorter:\n",
    "            shorter = shorter.next\n",
    "            \n",
    "    # if we have remaining we need to add new element\n",
    "    if remaining != 0:\n",
    "        summed_list.add(remaining)\n",
    "        \n",
    "    return summed_list"
   ]
  },
  {
   "cell_type": "code",
   "execution_count": 197,
   "id": "aacc9ab2-6ecc-44f5-8fab-c1279065e899",
   "metadata": {
    "tags": []
   },
   "outputs": [
    {
     "name": "stdout",
     "output_type": "stream",
     "text": [
      "3\n",
      "2\n"
     ]
    },
    {
     "data": {
      "text/plain": [
       "[3, 2]"
      ]
     },
     "execution_count": 197,
     "metadata": {},
     "output_type": "execute_result"
    }
   ],
   "source": [
    "sum_lists_reverse(LinkedList([2]), LinkedList([1, 2])).values()"
   ]
  },
  {
   "cell_type": "code",
   "execution_count": 184,
   "id": "241a68cb-4a9c-427a-a95c-562dfa3bc6ff",
   "metadata": {
    "tags": []
   },
   "outputs": [],
   "source": [
    "def sum_lists_recursive(ll1, ll2) -> LinkedList:\n",
    "    def sum_lists_helper(ll1_head, ll2_head, remainder, summed_list):\n",
    "        if ll1_head is None and ll2_head is None:\n",
    "            if remainder != 0:\n",
    "                summed_list.add(remainder)\n",
    "            return summed_list\n",
    "        elif ll1_head is None:\n",
    "            result = ll2_head.value + remainder\n",
    "            summed_list.add(result % 10)\n",
    "            return sum_lists_helper(ll1_head, ll2_head.next, result//10, summed_list)\n",
    "        elif ll2_head is None:\n",
    "            result = ll1_head.value + remainder\n",
    "            summed_list.add(result % 10)\n",
    "            return sum_lists_helper(ll1_head.next, ll2_head, result//10, summed_list)\n",
    "        else:\n",
    "            result = ll1_head.value + ll2_head.value + remainder\n",
    "            summed_list.add(result % 10)\n",
    "            return sum_lists_helper(ll1_head.next, ll2_head.next, result//10, summed_list)     \n",
    "    return sum_lists_helper(ll1.head, ll2.head, 0, LinkedList())"
   ]
  },
  {
   "cell_type": "code",
   "execution_count": 187,
   "id": "b16e6dd5-43df-4f7b-ae51-a9895c713113",
   "metadata": {
    "tags": []
   },
   "outputs": [
    {
     "name": "stdout",
     "output_type": "stream",
     "text": [
      "6 -> 6 -> 8\n",
      "7 -> 7 -> 6\n",
      "3 -> 4 -> 5 -> 1\n"
     ]
    }
   ],
   "source": [
    "ll1 = LinkedList.generate(3, 1, 9)\n",
    "ll2 = LinkedList.generate(3, 1, 9)\n",
    "print(ll1)\n",
    "print(ll2)\n",
    "print(sum_lists_recursive(ll1, ll2))"
   ]
  },
  {
   "cell_type": "code",
   "execution_count": 200,
   "id": "ed1b2770-c6d4-4388-bb14-7675045dbf9f",
   "metadata": {
    "tags": []
   },
   "outputs": [],
   "source": [
    "class NumericLinkedList(LinkedList):\n",
    "    @classmethod\n",
    "    def generate_from_integer(cls, integer):\n",
    "        integer_parts = [int(c) for c in str(integer)]\n",
    "        integer_parts.reverse()\n",
    "        return cls(integer_parts)\n",
    "\n",
    "    def numeric_value(self):\n",
    "        number = 0\n",
    "        for place, node in enumerate(self):\n",
    "            number += node.value * 10**place\n",
    "        return number\n",
    "    \n",
    "def sum_lists_followup(ll_a, ll_b):\n",
    "    # Pad the shorter list with zeros\n",
    "    if len(ll_a) < len(ll_b):\n",
    "        for i in range(len(ll_b) - len(ll_a)):\n",
    "            ll_a.add_to_beginning(0)\n",
    "    else:\n",
    "        for i in range(len(ll_a) - len(ll_b)):\n",
    "            ll_b.add_to_beginning(0)\n",
    "\n",
    "    # Find sum\n",
    "    n1, n2 = ll_a.head, ll_b.head\n",
    "    result = 0\n",
    "    while n1 and n2:\n",
    "        result = (result * 10) + n1.value + n2.value\n",
    "        n1 = n1.next\n",
    "        n2 = n2.next\n",
    "\n",
    "    # Create new linked list\n",
    "    return NumericLinkedList([int(i) for i in str(result)])"
   ]
  },
  {
   "cell_type": "code",
   "execution_count": 201,
   "id": "7d70b6f5-d4b3-4e66-ae39-8ea622b0412f",
   "metadata": {
    "tags": []
   },
   "outputs": [
    {
     "data": {
      "text/plain": [
       "[1, 1, 2, 2]"
      ]
     },
     "execution_count": 201,
     "metadata": {},
     "output_type": "execute_result"
    }
   ],
   "source": [
    "sum_lists_followup(LinkedList([1, 2, 3]), LinkedList([9, 9, 9])).values()"
   ]
  },
  {
   "cell_type": "markdown",
   "id": "56936ac4-4670-44a0-adce-6cb6347cf0b9",
   "metadata": {},
   "source": [
    "### 2.6 - Palindrome"
   ]
  },
  {
   "cell_type": "code",
   "execution_count": 210,
   "id": "324bfd33-d173-43b9-9579-551f3370f173",
   "metadata": {
    "tags": []
   },
   "outputs": [],
   "source": [
    "def reverse(linked_list):\n",
    "    reversed_ll = LinkedList()\n",
    "    runner = linked_list.head\n",
    "    while runner:\n",
    "        reversed_ll.add_to_beginning(runner.value)\n",
    "        runner = runner.next\n",
    "    return reversed_ll\n",
    "\n",
    "def is_palindrome(linked_list):\n",
    "    reversed_ll = reverse(linked_list)\n",
    "    runner = linked_list.head\n",
    "    reversed_runner = reversed_ll.head\n",
    "    \n",
    "    while runner and reversed_runner:\n",
    "        if runner.value != reversed_runner.value:\n",
    "            return False\n",
    "        runner = runner.next\n",
    "        reversed_runner = reversed_runner.next\n",
    "    return True"
   ]
  },
  {
   "cell_type": "code",
   "execution_count": 211,
   "id": "33149e6e-53fb-47e6-8ed1-6c41c14f1847",
   "metadata": {
    "tags": []
   },
   "outputs": [
    {
     "name": "stdout",
     "output_type": "stream",
     "text": [
      "4 -> 2 -> 7 -> 4 -> 3 -> 7 -> 1 -> 4 -> 5\n",
      "1 -> 0 -> 1 -> 0 -> 1\n",
      "False\n",
      "True\n"
     ]
    }
   ],
   "source": [
    "ll1 = LinkedList.generate(9, 1, 9)\n",
    "ll2 = LinkedList([1, 0, 1, 0, 1])\n",
    "print(ll1)\n",
    "print(ll2)\n",
    "print(is_palindrome(ll1))\n",
    "print(is_palindrome(ll2))"
   ]
  },
  {
   "cell_type": "markdown",
   "id": "991b9e5e-f8c1-480d-89c1-dee70fd59a7f",
   "metadata": {},
   "source": [
    "### 2.7 - Intersection"
   ]
  },
  {
   "cell_type": "code",
   "execution_count": 219,
   "id": "2982b9f9-bb0a-4bda-8f37-e34da5b6b654",
   "metadata": {
    "tags": []
   },
   "outputs": [],
   "source": [
    "def intersection(ll1, ll2):\n",
    "    size_ll1 = get_size(ll1)\n",
    "    size_ll2 = get_size(ll2)\n",
    "    if size_ll1 >= size_ll2:\n",
    "        longer = ll1\n",
    "        shorter = ll2\n",
    "    else:\n",
    "        longer = ll2\n",
    "        shorter = ll1\n",
    "        \n",
    "    longer_runner = longer.head\n",
    "    shorter_runner = shorter.head\n",
    "    \n",
    "    for _ in range(abs(size_ll1 - size_ll2)):\n",
    "        longer_runner = longer_runner.next\n",
    "    \n",
    "    while longer_runner and shorter_runner:\n",
    "        if longer_runner == shorter_runner:\n",
    "            return True\n",
    "        longer_runner = longer_runner.next\n",
    "        shorter_runner = shorter_runner.next\n",
    "    \n",
    "    return False"
   ]
  },
  {
   "cell_type": "markdown",
   "id": "b2bee2ff-9adb-44f2-9b05-d65c28db5d41",
   "metadata": {},
   "source": [
    "### 2.8 - "
   ]
  }
 ],
 "metadata": {
  "kernelspec": {
   "display_name": "Python 3 (ipykernel)",
   "language": "python",
   "name": "python3"
  },
  "language_info": {
   "codemirror_mode": {
    "name": "ipython",
    "version": 3
   },
   "file_extension": ".py",
   "mimetype": "text/x-python",
   "name": "python",
   "nbconvert_exporter": "python",
   "pygments_lexer": "ipython3",
   "version": "3.11.3"
  }
 },
 "nbformat": 4,
 "nbformat_minor": 5
}
