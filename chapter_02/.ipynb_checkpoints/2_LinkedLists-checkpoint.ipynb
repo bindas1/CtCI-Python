{
 "cells": [
  {
   "cell_type": "code",
   "execution_count": 2,
   "id": "908ed1b9-7b50-41ef-a898-fd9bd5826067",
   "metadata": {
    "tags": []
   },
   "outputs": [],
   "source": [
    "from linked_list import LinkedListNode, LinkedList, DoublyLinkedList"
   ]
  },
  {
   "cell_type": "markdown",
   "id": "2f19841f-3879-4f94-b34e-c013b2897d1d",
   "metadata": {},
   "source": [
    "### 2.1 - Remove Dups"
   ]
  },
  {
   "cell_type": "code",
   "execution_count": 36,
   "id": "2acce74b-cd87-4dc8-869b-75f791db4059",
   "metadata": {
    "tags": []
   },
   "outputs": [],
   "source": [
    "def remove_duplicates(linked_list: LinkedList) -> LinkedList:\n",
    "    node = linked_list.head\n",
    "    elements = {node.value}\n",
    "    while node.next:\n",
    "        if node.next.value not in elements:\n",
    "            elements.add(node.next.value)\n",
    "            node = node.next\n",
    "        else:\n",
    "            node.next = node.next.next\n",
    "    return linked_list"
   ]
  },
  {
   "cell_type": "code",
   "execution_count": 37,
   "id": "08fb4390-abec-43e8-8b3c-8a60e02f1cd3",
   "metadata": {
    "tags": []
   },
   "outputs": [
    {
     "name": "stdout",
     "output_type": "stream",
     "text": [
      "0 -> 1 -> 0 -> 1 -> 2 -> 0 -> 2 -> 1 -> 2 -> 0\n",
      "0 -> 1 -> 2\n"
     ]
    }
   ],
   "source": [
    "ll = LinkedList.generate(10, 0, 3)\n",
    "print(ll)\n",
    "print(remove_duplicates(ll))"
   ]
  },
  {
   "cell_type": "code",
   "execution_count": 38,
   "id": "157f610f-2cd9-4857-a38e-d82f9e73cc92",
   "metadata": {
    "tags": []
   },
   "outputs": [],
   "source": [
    "def remove_duplicates_followup(linked_list: LinkedList) -> LinkedList:\n",
    "    current = linked_list.head\n",
    "    prev = None\n",
    "    \n",
    "    while current:\n",
    "        value = current.value\n",
    "        runner = current.next\n",
    "        prev = current\n",
    "        while runner:\n",
    "            if runner.value == current.value:\n",
    "                prev.next = runner.next\n",
    "            else:\n",
    "                prev = runner\n",
    "            runner = runner.next\n",
    "        current = current.next   \n",
    "    return linked_list"
   ]
  },
  {
   "cell_type": "code",
   "execution_count": 39,
   "id": "d429295e-8291-431b-a2e4-820871ef4c0e",
   "metadata": {
    "tags": []
   },
   "outputs": [
    {
     "name": "stdout",
     "output_type": "stream",
     "text": [
      "2 -> 1 -> 0 -> 0 -> 2 -> 2 -> 2 -> 1 -> 0 -> 0\n",
      "2 -> 1 -> 0\n"
     ]
    }
   ],
   "source": [
    "ll = LinkedList.generate(10, 0, 3)\n",
    "print(ll)\n",
    "print(remove_duplicates_followup(ll))"
   ]
  },
  {
   "cell_type": "markdown",
   "id": "97223696-0558-462e-b165-c4424e2d8465",
   "metadata": {},
   "source": [
    "### 2.2 - Return Kth to last"
   ]
  },
  {
   "cell_type": "code",
   "execution_count": 45,
   "id": "437927d8-4678-42ec-873b-a2f719329dc4",
   "metadata": {
    "tags": []
   },
   "outputs": [],
   "source": [
    "def k_to_last(linked_list: LinkedList, k: int) -> LinkedList:\n",
    "    \"\"\"Given linkedlist returns elements from index k to the end\"\"\"\n",
    "    current = linked_list.head\n",
    "    i = 0 \n",
    "    while current:\n",
    "        if i == k:\n",
    "            new_linked_list = LinkedList()\n",
    "            new_linked_list.head = current\n",
    "            return new_linked_list\n",
    "        i += 1\n",
    "        current = current.next\n",
    "    return linked_list"
   ]
  },
  {
   "cell_type": "code",
   "execution_count": 47,
   "id": "c0414231-52a7-462a-b42f-cbe5128bc214",
   "metadata": {
    "tags": []
   },
   "outputs": [
    {
     "name": "stdout",
     "output_type": "stream",
     "text": [
      "1 -> 2 -> 1 -> 2 -> 1 -> 1 -> 1 -> 0 -> 0 -> 2\n",
      "1 -> 1 -> 0 -> 0 -> 2\n"
     ]
    }
   ],
   "source": [
    "ll = LinkedList.generate(10, 0, 3)\n",
    "print(ll)\n",
    "print(k_to_last(ll, 5))"
   ]
  },
  {
   "cell_type": "code",
   "execution_count": 51,
   "id": "32a78501-2fd4-43bb-ba88-2f3d4bc5049b",
   "metadata": {
    "tags": []
   },
   "outputs": [],
   "source": [
    "def k_to_last_recursive(linked_list: LinkedList, k: int) -> LinkedList:\n",
    "    if k == 0:\n",
    "        return linked_list\n",
    "    else:\n",
    "        new_linked_list = LinkedList()\n",
    "        new_linked_list.head = linked_list.head.next\n",
    "        return k_to_last_recursive(new_linked_list, k-1)"
   ]
  },
  {
   "cell_type": "code",
   "execution_count": 52,
   "id": "62f07d8b-82fb-48dc-b0cb-5d6a39c2767b",
   "metadata": {
    "tags": []
   },
   "outputs": [
    {
     "name": "stdout",
     "output_type": "stream",
     "text": [
      "0 -> 1 -> 2 -> 2 -> 2 -> 0 -> 1 -> 0 -> 0 -> 0\n",
      "0 -> 1 -> 0 -> 0 -> 0\n"
     ]
    }
   ],
   "source": [
    "ll = LinkedList.generate(10, 0, 3)\n",
    "print(ll)\n",
    "print(k_to_last_recursive(ll, 5))"
   ]
  },
  {
   "cell_type": "code",
   "execution_count": 92,
   "id": "485ddc4a-acb6-477c-aee4-064e071f1624",
   "metadata": {
    "tags": []
   },
   "outputs": [],
   "source": [
    "def get_size(linked_list):\n",
    "    head = linked_list.head\n",
    "    size = 0\n",
    "    while head:\n",
    "        head = head.next\n",
    "        size += 1\n",
    "    return size\n",
    "    \n",
    "def k_last_elem_recursive(linked_list: LinkedList, k: int) -> LinkedList:\n",
    "    size = get_size(linked_list)\n",
    "    k_front = size - k\n",
    "    runner = linked_list.head\n",
    "    \n",
    "    for i in range(k_front):\n",
    "        runner = runner.next\n",
    "    return runner.value"
   ]
  },
  {
   "cell_type": "code",
   "execution_count": 93,
   "id": "432ac0a8-1735-4f49-bbb2-98e696313361",
   "metadata": {
    "tags": []
   },
   "outputs": [],
   "source": [
    "def k_last_elem(linked_list: LinkedList, k: int) -> int:\n",
    "    front = linked_list.head\n",
    "    back = linked_list.head\n",
    "    for _ in range(k):\n",
    "        if not front:\n",
    "            return None\n",
    "        front = front.next\n",
    "    \n",
    "    # when front gets to None back is on the kth to last elem\n",
    "    while front:\n",
    "        front = front.next\n",
    "        back = back.next\n",
    "    return back.value\n",
    "    "
   ]
  },
  {
   "cell_type": "code",
   "execution_count": 100,
   "id": "b75cb38a-41cb-4f36-863a-861eb409b818",
   "metadata": {
    "tags": []
   },
   "outputs": [
    {
     "name": "stdout",
     "output_type": "stream",
     "text": [
      "2 -> 2 -> 1 -> 2 -> 2 -> 2 -> 0 -> 1 -> 0 -> 2\n",
      "0\n",
      "0\n"
     ]
    }
   ],
   "source": [
    "ll = LinkedList.generate(10, 0, 3)\n",
    "print(ll)\n",
    "print(k_last_elem(ll, 4))\n",
    "print(k_last_elem_recursive(ll, 4))"
   ]
  },
  {
   "cell_type": "markdown",
   "id": "cce7f5e2-10e4-4b23-bae2-8311d34c6192",
   "metadata": {},
   "source": [
    "### 2.3 - Delete Middle Node"
   ]
  },
  {
   "cell_type": "code",
   "execution_count": 109,
   "id": "c6b555e3-d111-41a4-aec3-d9784f86573f",
   "metadata": {
    "tags": []
   },
   "outputs": [],
   "source": [
    "def delete_middle(linked_list: LinkedList):\n",
    "    # check if len(list) < 3\n",
    "    if linked_list.head.next.next != None:\n",
    "        runner = linked_list.head\n",
    "        back = linked_list.head\n",
    "\n",
    "        while runner and runner.next:\n",
    "            runner = runner.next.next\n",
    "            back = back.next\n",
    "\n",
    "            if runner == None or runner.next == None:\n",
    "                back.value = back.next.value\n",
    "                back.next = back.next.next"
   ]
  },
  {
   "cell_type": "code",
   "execution_count": 114,
   "id": "0a73255b-6c83-4012-9c40-42ea67b1eda7",
   "metadata": {
    "tags": []
   },
   "outputs": [],
   "source": [
    "def delete_middle_node(node):\n",
    "    node.value = node.next.value\n",
    "    node.next = node.next.next"
   ]
  },
  {
   "cell_type": "code",
   "execution_count": 115,
   "id": "cfe72f95-54ee-4ed2-89fd-30c63df21117",
   "metadata": {
    "tags": []
   },
   "outputs": [
    {
     "name": "stdout",
     "output_type": "stream",
     "text": [
      "1 -> 9 -> 18 -> 4 -> 6\n",
      "1 -> 9 -> 4 -> 6\n"
     ]
    }
   ],
   "source": [
    "ll = LinkedList.generate(5, 0, 20)\n",
    "print(ll)\n",
    "delete_middle(ll)\n",
    "print(ll)"
   ]
  },
  {
   "cell_type": "code",
   "execution_count": 116,
   "id": "b4ab1bb4-efff-49eb-b746-5a72e8094812",
   "metadata": {
    "tags": []
   },
   "outputs": [
    {
     "name": "stdout",
     "output_type": "stream",
     "text": [
      "6 -> 14\n",
      "6 -> 14\n"
     ]
    }
   ],
   "source": [
    "ll = LinkedList.generate(2, 0, 20)\n",
    "print(ll)\n",
    "delete_middle(ll)\n",
    "print(ll)"
   ]
  },
  {
   "cell_type": "markdown",
   "id": "769ab680-a560-4345-a3ef-cebd0cd41d79",
   "metadata": {},
   "source": [
    "### 2.4 - Partition"
   ]
  },
  {
   "cell_type": "code",
   "execution_count": 145,
   "id": "63a134e6-3bb1-490a-a476-8d8e3c05163e",
   "metadata": {
    "tags": []
   },
   "outputs": [],
   "source": [
    "def partition_list(linked_list, x) -> LinkedList:\n",
    "    left = None\n",
    "    right = None\n",
    "    left_head = None\n",
    "    right_head = None\n",
    "    runner = linked_list.head\n",
    "    \n",
    "    while runner:\n",
    "        if runner.value < x:\n",
    "            if left is not None:\n",
    "                left.next = LinkedListNode(runner.value)\n",
    "                left = left.next\n",
    "            else:\n",
    "                left = LinkedListNode(runner.value)\n",
    "                left_head = left\n",
    "        else:\n",
    "            if right is not None:\n",
    "                right.next = LinkedListNode(runner.value)\n",
    "                right = right.next\n",
    "            else:\n",
    "                right = LinkedListNode(runner.value)\n",
    "                right_head = right\n",
    "        runner = runner.next\n",
    "        \n",
    "    # merge left with right\n",
    "    left.next = right_head\n",
    "    linked_list.head = left_head\n",
    "    \n",
    "    return linked_list"
   ]
  },
  {
   "cell_type": "code",
   "execution_count": 146,
   "id": "254fc0e8-654c-4717-a5e3-d8968cd422a4",
   "metadata": {
    "tags": []
   },
   "outputs": [
    {
     "name": "stdout",
     "output_type": "stream",
     "text": [
      "1 -> 1 -> 3 -> 2 -> 0 -> 2 -> 1 -> 3 -> 1 -> 0\n",
      "1 -> 1 -> 0 -> 1 -> 1 -> 0 -> 3 -> 2 -> 2 -> 3\n"
     ]
    }
   ],
   "source": [
    "ll = LinkedList.generate(10, 0, 5)\n",
    "print(ll)\n",
    "print(partition_list(ll, 2))"
   ]
  }
 ],
 "metadata": {
  "kernelspec": {
   "display_name": "Python 3 (ipykernel)",
   "language": "python",
   "name": "python3"
  },
  "language_info": {
   "codemirror_mode": {
    "name": "ipython",
    "version": 3
   },
   "file_extension": ".py",
   "mimetype": "text/x-python",
   "name": "python",
   "nbconvert_exporter": "python",
   "pygments_lexer": "ipython3",
   "version": "3.11.3"
  }
 },
 "nbformat": 4,
 "nbformat_minor": 5
}
